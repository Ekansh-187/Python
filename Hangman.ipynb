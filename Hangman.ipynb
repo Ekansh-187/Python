{
  "nbformat": 4,
  "nbformat_minor": 0,
  "metadata": {
    "colab": {
      "name": "Untitled3.ipynb",
      "provenance": [],
      "collapsed_sections": [],
      "authorship_tag": "ABX9TyOPuls4JRI61SMW7ZxGM0VS",
      "include_colab_link": true
    },
    "kernelspec": {
      "name": "python3",
      "display_name": "Python 3"
    },
    "language_info": {
      "name": "python"
    }
  },
  "cells": [
    {
      "cell_type": "markdown",
      "metadata": {
        "id": "view-in-github",
        "colab_type": "text"
      },
      "source": [
        "<a href=\"https://colab.research.google.com/github/Ekansh-187/Python/blob/main/Hangman.ipynb\" target=\"_parent\"><img src=\"https://colab.research.google.com/assets/colab-badge.svg\" alt=\"Open In Colab\"/></a>"
      ]
    },
    {
      "cell_type": "code",
      "metadata": {
        "id": "BfcTYncTVHZN"
      },
      "source": [
        "import random\n",
        "easy = ['hellllllooooooo']\n",
        "medium = ['dog','elephant','frog']\n",
        "hard = ['g','h','i']\n",
        "\n",
        "def result(y):\n",
        "  x=[]\n",
        "  if(y==1):\n",
        "    word = random.choice(easy)\n",
        "    j=10\n",
        "    w = 6\n",
        "    \n",
        "    while(j>0):\n",
        "      x=[]\n",
        "      print(\"\\nAttempt No.: \",j,\"\\n\")\n",
        "      draw(0)\n",
        "      for i in range (len(word)):\n",
        "        x.append('_')\n",
        "      \n",
        "      a = fill(word,x,j,w)  \n",
        "      if(a==0):        \n",
        "        print(\"You Won!!!\") \n",
        "        break   \n",
        "      else:\n",
        "        print(\"\\nYou failed in this attempt :(\")\n",
        "        j-=1\n",
        "  elif(y==3):\n",
        "    word = random.choice(hard)\n",
        "    j=3\n",
        "    w=4\n",
        "    \n",
        "    while(j>0):\n",
        "      x=[]\n",
        "      print(\"\\nAttempt No.: \",j,\"\\n\")\n",
        "      draw(2)\n",
        "      for i in range (len(word)):\n",
        "        x.append('_')\n",
        "      \n",
        "      a = fill(word,x,j,w)  \n",
        "      if(a==0):        \n",
        "        print(\"You Won!!!\") \n",
        "        break   \n",
        "      else:\n",
        "        print(\"\\nYou failed in this attempt :(\")\n",
        "        j-=1\n",
        "  else:\n",
        "    word = random.choice(medium)\n",
        "    j=6\n",
        "    w=5 \n",
        "    draw(1)\n",
        "    while(j>0):\n",
        "      x=[]\n",
        "      print(\"\\nAttempt No.: \",j,\"\\n\")\n",
        "      draw(1)\n",
        "      for i in range (len(word)):\n",
        "        x.append('_')\n",
        "      \n",
        "      a = fill(word,x,j,w)  \n",
        "      if(a==0):        \n",
        "        print(\"You Won!!!\") \n",
        "        break   \n",
        "      else:\n",
        "        print(\"\\nYou failed in this attempt :(\")\n",
        "        j-=1\n",
        "    if(j==0):\n",
        "      print(\"You lost!\")\n",
        "      print(\"The word was: \",word)   "
      ],
      "execution_count": 32,
      "outputs": []
    },
    {
      "cell_type": "code",
      "metadata": {
        "id": "viZa9jiPVTpZ"
      },
      "source": [
        "def printword(a):\n",
        "  print(\"Word:  \",end=\"\")\n",
        "  for i in range(len(a)):\n",
        "    print(a[i],end=\" \")\n",
        "  print(\"\\n\")\n",
        "  "
      ],
      "execution_count": 18,
      "outputs": []
    },
    {
      "cell_type": "code",
      "metadata": {
        "id": "8mudJorjVUiB"
      },
      "source": [
        "def fill(a,x,f,k):\n",
        "  temp = list(a)\n",
        "  attempt = []\n",
        "  j=0\n",
        "  \n",
        "  while(j<k):\n",
        "    printword(x)\n",
        "    print(\"Failed attempts left: \",f,end=\"     \")\n",
        "    print(\"Wrong guesses left = \",k-j)\n",
        "    print('Attempted: \"',end=\"\")\n",
        "    for i in range(len(attempt)):\n",
        "      print(attempt[i],end=\"\")\n",
        "    print('\"')  \n",
        "\n",
        "    b = input(\"Enter a letter: \")    \n",
        "    if(b.isalpha()):      \n",
        "      b=b.lower()\n",
        "      if(len(b)>1):\n",
        "        print(\"Enter a single letter!\")\n",
        "      else:  \n",
        "        if(b not in x):\n",
        "          attempt.append(b)\n",
        "        if(b in  temp):          \n",
        "          while(b in temp):\n",
        "            x[temp.index(b)] = b            \n",
        "            temp[temp.index(b)] = '_'\n",
        "          pictoral(j,k)       \n",
        "          if('_' not in x):\n",
        "            printword(x) \n",
        "            return 0\n",
        "        elif(b in  x):\n",
        "          print(\"You already guessed  it. Guess some other letter:) \")\n",
        "        else:\n",
        "          pictoral(j+1,k)\n",
        "          j=j+1\n",
        "          \n",
        "    else:\n",
        "      print(\"Please enter characters in the range a-z\");\n",
        "\n",
        "  if(j<k):\n",
        "    return 0\n",
        "  else:\n",
        "    return 1"
      ],
      "execution_count": 27,
      "outputs": []
    },
    {
      "cell_type": "code",
      "metadata": {
        "id": "XS2nTsNfVXNP"
      },
      "source": [
        "def draw(x):\n",
        "  if(x==0):\n",
        "    print(\"   _____ \\n\"\n",
        "          \"  |     | \\n\"\n",
        "          \"  |      \\n\"\n",
        "          \"  |      \\n\"\n",
        "          \"  |      \\n\"\n",
        "          \"  |      \\n\"\n",
        "          \"  |      \\n\"\n",
        "          \"__|__\\n\")\n",
        "  if(x==1):\n",
        "    print(\"   _____ \\n\"\n",
        "          \"  |     | \\n\"\n",
        "          \"  |     O \\n\"\n",
        "          \"  |      \\n\"\n",
        "          \"  |      \\n\"\n",
        "          \"  |      \\n\"\n",
        "          \"  |      \\n\"\n",
        "          \"__|__\\n\")\n",
        "  if(x==2):\n",
        "    print(\"   _____ \\n\"\n",
        "          \"  |     | \\n\"\n",
        "          \"  |     O \\n\"\n",
        "          \"  |     | \\n\"\n",
        "          \"  |     | \\n\"\n",
        "          \"  |      \\n\"\n",
        "          \"  |      \\n\"\n",
        "          \"__|__\\n\")\n",
        "  if(x==3):\n",
        "    print(\"   _____ \\n\"\n",
        "          \"  |     | \\n\"\n",
        "          \"  |     O \\n\"\n",
        "          \"  |    /| \\n\"\n",
        "          \"  |     | \\n\"\n",
        "          \"  |      \\n\"\n",
        "          \"  |      \\n\"\n",
        "          \"__|__\\n\")\n",
        "  if(x==4):\n",
        "    print(\"   _____ \\n\"\n",
        "          \"  |     | \\n\"\n",
        "          \"  |     O \\n\"\n",
        "          \"  |    /|\\ \\n\"\n",
        "          \"  |     | \\n\"\n",
        "          \"  |      \\n\"\n",
        "          \"  |      \\n\"\n",
        "          \"__|__\\n\")\n",
        "  if(x==5):\n",
        "    print(\"   _____ \\n\"\n",
        "          \"  |     | \\n\"\n",
        "          \"  |     O \\n\"\n",
        "          \"  |    /|\\ \\n\"\n",
        "          \"  |     | \\n\"\n",
        "          \"  |    / \\n\"\n",
        "          \"  |      \\n\"\n",
        "          \"__|__\\n\")\n",
        "  if(x==6):\n",
        "    print(\"   _____ \\n\"\n",
        "          \"  |     | \\n\"\n",
        "          \"  |     O \\n\"\n",
        "          \"  |    /|\\ \\n\"\n",
        "          \"  |     | \\n\"\n",
        "          \"  |    / \\ \\n\"\n",
        "          \"  |      \\n\"\n",
        "          \"__|__\\n\")\n",
        "    "
      ],
      "execution_count": 20,
      "outputs": []
    },
    {
      "cell_type": "code",
      "metadata": {
        "id": "YYtdMAmT1d6O"
      },
      "source": [
        "def pictoral(j,k):\n",
        "  if(k==6):\n",
        "    draw(j)\n",
        "  elif(k==5):\n",
        "    draw(j+1)\n",
        "  else:\n",
        "    draw(j+2)"
      ],
      "execution_count": 29,
      "outputs": []
    },
    {
      "cell_type": "code",
      "metadata": {
        "id": "fW3zXmEHVdF0"
      },
      "source": [
        "def start():  \n",
        "  try:\n",
        "    x = int(input(\"Please select a difficulty level:\"))\n",
        "    hangman(x)\n",
        "  except:\n",
        "    print(\"\\nInvalid input :(\")\n",
        "    print(\"Please Try again!!!\\n\")\n",
        "    start()"
      ],
      "execution_count": 22,
      "outputs": []
    },
    {
      "cell_type": "code",
      "metadata": {
        "id": "DE8eHtFgVgOJ"
      },
      "source": [
        "def hangman(x):  \n",
        "  if(x==1):\n",
        "      result(1)\n",
        "  elif(x==2):       \n",
        "    result(2)\n",
        "  elif(x==3):\n",
        "    result(3)    \n",
        "  else:\n",
        "    print(\"Difficulty automatically set to intermediate...\")\n",
        "    result(2)"
      ],
      "execution_count": 23,
      "outputs": []
    },
    {
      "cell_type": "code",
      "metadata": {
        "id": "vJIp4W8jVh_Q"
      },
      "source": [
        "print(\"Difficutly levels:\")\n",
        "print(\"1. Easy\")\n",
        "print(\"2. Medium\")\n",
        "print(\"3. Hard\")\n",
        "print(\"Note: If you enter a number which is out of range (smaller than 1 or greater than 3), the level will be automatically set to 'Medium'\")\n",
        "start()\n"
      ],
      "execution_count": null,
      "outputs": []
    }
  ]
}